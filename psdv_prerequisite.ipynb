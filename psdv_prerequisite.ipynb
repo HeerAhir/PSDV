{
 "cells": [
  {
   "cell_type": "code",
   "execution_count": 32,
   "id": "343e7a0e-e452-4b2f-b3a3-c995d655ce82",
   "metadata": {},
   "outputs": [
    {
     "name": "stdout",
     "output_type": "stream",
     "text": [
      "[1, 2, 3, 4, 5, 6, 7, 8, 9, 10, 11, 12, 13, 14, 15, 16, 17, 18, 19, 20]\n",
      "110\n",
      "654729075\n",
      "10.5\n",
      "10.5\n",
      "5.766281297335398\n"
     ]
    }
   ],
   "source": [
    "#Q1)\n",
    "#Create a list of the first 20 natural numbers.\n",
    "nat_list= list(range(1,21))\n",
    "print(nat_list)\n",
    "#Compute the sum of all even numbers in the list.\n",
    "nat_list= list(range(1,21))\n",
    "even_sum = 0\n",
    "for number in nat_list:\n",
    "    if number%2==0:\n",
    "        even_sum = even_sum + number\n",
    "print(even_sum)\n",
    "#Compute the product of all odd numbers in the list.\n",
    "nat_list= list(range(1,21))\n",
    "odd_pro= 1\n",
    "for number in nat_list:\n",
    "    if number%2!=0:\n",
    "        odd_pro= odd_pro*number\n",
    "print(odd_pro)\n",
    "#Calculate the mean, median, and standard deviation of the list.\n",
    "nat_list= list(range(1,21))\n",
    "sum1= 0\n",
    "for number in nat_list:\n",
    "    sum1= sum1+ number\n",
    "mean= sum1/20\n",
    "print(mean)\n",
    "med_v= (nat_list[9] + nat_list[10])/2\n",
    "print(med_v)\n",
    "square_sum=0\n",
    "for num in nat_list:\n",
    "    sq_dev= (num - mean)**2\n",
    "    square_sum= square_sum + sq_dev\n",
    "square_div= square_sum/20\n",
    "square_root= (square_div)**(0.5)\n",
    "print(square_root)"
   ]
  },
  {
   "cell_type": "markdown",
   "id": "82a9bf7f-13e2-493a-ad3b-0c3f6c5b5892",
   "metadata": {},
   "source": [
    "Q2)Explain the difference between mutable and immutable data types in Python. Provide examples of each.\n",
    "~ Mutable datatypes allow their variables to change without changing their identities whereas, immutable data types do not allow it, they rather generate new object.\n",
    "~ Examples of mutable: Lists, Dictionaries ~ Examples of immutable: Tuples, Integers\n"
   ]
  },
  {
   "cell_type": "code",
   "execution_count": 33,
   "id": "2ae5504b-5652-4709-b04b-924139488980",
   "metadata": {},
   "outputs": [
    {
     "ename": "ValueError",
     "evalue": "invalid literal for int() with base 10: ''",
     "output_type": "error",
     "traceback": [
      "\u001b[1;31m---------------------------------------------------------------------------\u001b[0m",
      "\u001b[1;31mValueError\u001b[0m                                Traceback (most recent call last)",
      "Cell \u001b[1;32mIn[33], line 13\u001b[0m\n\u001b[0;32m     11\u001b[0m         fibonacci\u001b[38;5;241m.\u001b[39mappend(fibonacci[\u001b[38;5;241m-\u001b[39m\u001b[38;5;241m1\u001b[39m]\u001b[38;5;241m+\u001b[39mfibonacci[\u001b[38;5;241m-\u001b[39m\u001b[38;5;241m2\u001b[39m])\n\u001b[0;32m     12\u001b[0m     \u001b[38;5;28;01mreturn\u001b[39;00m fibonacci\n\u001b[1;32m---> 13\u001b[0m n\u001b[38;5;241m=\u001b[39m \u001b[38;5;28;43mint\u001b[39;49m\u001b[43m(\u001b[49m\u001b[38;5;28;43minput\u001b[39;49m\u001b[43m(\u001b[49m\u001b[43m)\u001b[49m\u001b[43m)\u001b[49m\n\u001b[0;32m     14\u001b[0m \u001b[38;5;28mprint\u001b[39m(fibonacci_num(n))\n\u001b[0;32m     15\u001b[0m \u001b[38;5;66;03m#making line graph\u001b[39;00m\n",
      "\u001b[1;31mValueError\u001b[0m: invalid literal for int() with base 10: ''"
     ]
    }
   ],
   "source": [
    "#Q3\n",
    "#Write a Python function that takes a number n and returns a list of the first n Fibonacci numbers.\n",
    "import matplotlib.pyplot as plt\n",
    "def fibonacci_num(n):\n",
    "    if n<=0:\n",
    "        return []\n",
    "    elif n==1:\n",
    "        return [0]\n",
    "    fibonacci=[0,1]\n",
    "    for _ in range (2,n):\n",
    "        fibonacci.append(fibonacci[-1]+fibonacci[-2])\n",
    "    return fibonacci\n",
    "n= int(input())\n",
    "print(fibonacci_num(n))\n",
    "#making line graph\n",
    "X= list(range(1,n+1))\n",
    "Y= fibonacci_num(n)\n",
    "plt.plot(X,Y)\n",
    "plt.show()\n"
   ]
  },
  {
   "cell_type": "code",
   "execution_count": 3,
   "id": "005476f7-68f4-4f73-9652-b420d70143ec",
   "metadata": {},
   "outputs": [
    {
     "name": "stdout",
     "output_type": "stream",
     "text": [
      "7.833333333333333\n",
      "7.5\n"
     ]
    }
   ],
   "source": [
    "#Q4\n",
    "#List Manipulation:\n",
    "num_list= [3, 5, 7, 9, 11, 13]\n",
    "#inserting 6.\n",
    "num_list.insert(3,6)\n",
    "#removing 7.\n",
    "num_list.remove(7)\n",
    "#reversing\n",
    "num_list.reverse()\n",
    "mean= sum(num_list)/len(num_list)\n",
    "num_sorted= num_list.sort()\n",
    "b= len(num_list)\n",
    "if len(num_list)%2==0:\n",
    "    median= (num_list[(b//2)-1]+ num_list[b//2])/2\n",
    "else:\n",
    "    median= num_list[b//2]\n",
    "print(mean)\n",
    "print(median)"
   ]
  },
  {
   "cell_type": "code",
   "execution_count": null,
   "id": "1e89617f-2cde-4682-8691-8b1b328d3547",
   "metadata": {},
   "outputs": [
    {
     "name": "stdout",
     "output_type": "stream",
     "text": [
      "25.0\n",
      "40\n",
      "10\n"
     ]
    },
    {
     "data": {
      "image/png": "[encoded data removed]",
      "text/plain": [
       "<Figure size 640x480 with 1 Axes>"
      ]
     },
     "metadata": {},
     "output_type": "display_data"
    }
   ],
   "source": [
    "#Q5\n",
    "#Write a program to read a comma-separated list of numbers from the user (e.g., “10, 20, 30, 40”).\n",
    "import matplotlib.pyplot as plt \n",
    "def pro_num():\n",
    "    num_str= input()\n",
    "    num= list(map(int, num_str.split(',')))\n",
    "    mean= sum(num)/len(num)\n",
    "    maxi= max(num)\n",
    "    mini= min(num)\n",
    "    print(mean)\n",
    "    print(maxi)\n",
    "    print(mini)\n",
    "#making histogram\n",
    "    plt.hist(num, bins=4, color='blue',edgecolor='black')\n",
    "    plt.show()\n",
    "pro_num()\n"
   ]
  },
  {
   "cell_type": "code",
   "execution_count": null,
   "id": "ae245832-0ba3-4cc8-a793-69d482d7a903",
   "metadata": {},
   "outputs": [
    {
     "name": "stdout",
     "output_type": "stream",
     "text": [
      "False\n"
     ]
    }
   ],
   "source": [
    "#Q6\n",
    "#Write a program to check if a string is a palindrome \n",
    "strg= input()\n",
    "string1= strg.lower()\n",
    "string2= string1.split()\n",
    "string3= \"\".join(string2)\n",
    "string4= string3[::-1]\n",
    "if string3==string4:\n",
    "    print(\"True\")\n",
    "else:\n",
    "    print(\"False\")\n"
   ]
  },
  {
   "cell_type": "code",
   "execution_count": null,
   "id": "8fe625fe-1c87-43d8-8f4c-7b4f7048ab71",
   "metadata": {},
   "outputs": [
    {
     "name": "stdout",
     "output_type": "stream",
     "text": [
      "60.0\n",
      "Sita\n",
      "Lakshman\n"
     ]
    },
    {
     "data": {
      "image/png": "[encoded data removed]",
      "text/plain": [
       "<Figure size 640x480 with 1 Axes>"
      ]
     },
     "metadata": {},
     "output_type": "display_data"
    }
   ],
   "source": [
    "#7\n",
    "import matplotlib.pylab as plt\n",
    "s = '{\"Ram\":30, \"Sita\":100, \"Lakshman\":70, \"Bharat\":50, \"Shatrugan\":50}'\n",
    "#printing avg\n",
    "ramayan = eval(s)\n",
    "l = list(ramayan.values())\n",
    "avg= sum(l)/len(l)\n",
    "print(avg)\n",
    "#Print the names of students scoring above the average.\n",
    "# ramayan.items() => list of tuples => [(key, item), (key2, item2), ....]\n",
    "for name, marks in ramayan.items():\n",
    "    if marks > avg:\n",
    "        print(name)\n",
    "plt.bar(ramayan.keys(), ramayan.values())\n",
    "plt.show()"
   ]
  },
  {
   "cell_type": "code",
   "execution_count": null,
   "id": "43307a7e-c655-4706-8c3d-5d3a192412c6",
   "metadata": {},
   "outputs": [
    {
     "data": {
      "image/png": "[encoded data removed]",
      "text/plain": [
       "<Figure size 640x480 with 1 Axes>"
      ]
     },
     "metadata": {},
     "output_type": "display_data"
    }
   ],
   "source": [
    "#Q8\n",
    "import matplotlib.pylab as plt\n",
    "num_square_tup= [(n, n**2) for n in range (1,11)]\n",
    "x, y = map(list, zip(*num_square_tup))\n",
    "plt.scatter(x, y)\n",
    "plt.show()"
   ]
  },
  {
   "cell_type": "code",
   "execution_count": 8,
   "id": "64b4a7cc-6795-414d-afed-d1cfcaabbeb9",
   "metadata": {},
   "outputs": [
    {
     "name": "stdout",
     "output_type": "stream",
     "text": [
      "{'a1': 2, 'a2': 5, 'b1': 16, 'b2': 4, 'b3': 1}\n"
     ]
    }
   ],
   "source": [
    "#Q9\n",
    "#Write Python code to merge two dictionaries. If a key is present in both, sum their values\n",
    "def sumval_dict(dicta, dictb):\n",
    "    for key, value in dictb.items():\n",
    "        if key in dicta:\n",
    "            dicta[key]+= value\n",
    "        else:\n",
    "            dicta[key]= value\n",
    "    return dicta\n",
    "dicta= {'a1': 2, 'a2':5, 'b1':7}\n",
    "dictb= {'b1':9, 'b2':4, 'b3':1}\n",
    "new_dict= sumval_dict(dicta,dictb)\n",
    "print(new_dict)\n",
    "    "
   ]
  },
  {
   "cell_type": "code",
   "execution_count": null,
   "id": "ef40ed50-4ff9-417d-925e-057e451f4c37",
   "metadata": {},
   "outputs": [
    {
     "name": "stdout",
     "output_type": "stream",
     "text": [
      "df jds jfds kds k dfsk dfsk dfsk\n",
      "{'d': 7, 'f': 5, ' ': 7, 'j': 2, 's': 6, 'k': 5}\n"
     ]
    },
    {
     "data": {
      "image/png": "[encoded data removed]",
      "text/plain": [
       "<Figure size 640x480 with 1 Axes>"
      ]
     },
     "metadata": {},
     "output_type": "display_data"
    }
   ],
   "source": [
    "#Q10\n",
    "#Character Frequency:\n",
    "#Write a function that accepts a string and:\n",
    "string1= input().lower()\n",
    "#Converts all characters to lowercase.\n",
    "\n",
    "print(string1)\n",
    "#Counts the frequency of each character.\n",
    "d = {}\n",
    "for i in string1:\n",
    "    if i not in d:\n",
    "        d[i] = 0\n",
    "    d[i] += 1\n",
    "print (d)\n",
    "#Returns a dictionary with characters as keys and their counts as values.\n",
    "plt.bar(d.keys(), d.values())\n",
    "plt.show()\n",
    "#Visualize the character frequencies using a bar chart.\n",
    "\n"
   ]
  },
  {
   "cell_type": "code",
   "execution_count": 10,
   "id": "c3adfbc0",
   "metadata": {},
   "outputs": [
    {
     "name": "stdout",
     "output_type": "stream",
     "text": [
      "[1, 2, 3, 6]\n",
      "3.0\n",
      "2.5\n"
     ]
    }
   ],
   "source": [
    "#Q11\n",
    "#Remove Duplicates:\n",
    "#Write a program to remove duplicate elements from a list while maintaining the order of elements.\n",
    "def remove_dupli(string1):\n",
    "    result=[]\n",
    "    for item in string1:\n",
    "        if item not in result:\n",
    "            result.append(item)\n",
    "    return result\n",
    "string1= [1,2,2,2,3,3,6]\n",
    "output_list= remove_dupli(string1)\n",
    "print(output_list)\n",
    "    \n",
    "\n",
    "#Calculate the mean and median of the unique elements.\n",
    "sum1= 0\n",
    "for number in output_list:\n",
    "    sum1= sum1+ number\n",
    "mean= sum1/len(output_list)\n",
    "print(mean)\n",
    "med_v1= (output_list[1]+output_list[2])/2\n",
    "print(med_v1)"
   ]
  },
  {
   "cell_type": "code",
   "execution_count": null,
   "id": "a6c11b9c",
   "metadata": {},
   "outputs": [
    {
     "data": {
      "image/png": "[encoded data removed]",
      "text/plain": [
       "<Figure size 640x480 with 1 Axes>"
      ]
     },
     "metadata": {},
     "output_type": "display_data"
    },
    {
     "name": "stdout",
     "output_type": "stream",
     "text": [
      "Longest string: umbrella\n",
      "Number of strings starting with a vowel: 2\n"
     ]
    }
   ],
   "source": [
    "#Q12\n",
    "import matplotlib.pyplot as plt\n",
    "#Find the longest string\n",
    "def string_operations(string2):\n",
    "    longest_strg= max(string2, key=len)\n",
    "    vowelss = {'a', 'e', 'i', 'o', 'u', 'A', 'E', 'I', 'O', 'U'}\n",
    "    vowel_countss = sum(1 for s in string2 if s and s[0] in vowelss)\n",
    "    string_lengthss = [len(s) for s in string2]\n",
    "    plt.hist(string_lengthss, bins=range(1, max(string_lengthss) + 2))\n",
    "    plt.title('Distribution of String Lengths')\n",
    "    plt.xlabel('String Length')\n",
    "    plt.ylabel('Frequency')\n",
    "    plt.xticks(range(1, max(string_lengthss) + 1))\n",
    "    plt.show()\n",
    "    return longest_strg, vowel_countss\n",
    "string2 = [\"Cat\", \"blue\", \"orange\", \"umbrella\", \"yellow\", \"Zoo\"]\n",
    "longest_string, vowel_start_count = string_operations(string2)\n",
    "print(f\"Longest string: {longest_string}\")\n",
    "print(f\"Number of strings starting with a vowel: {vowel_start_count}\")\n",
    "\n",
    "\n",
    "\n",
    "\n",
    "\n"
   ]
  },
  {
   "cell_type": "code",
   "execution_count": 12,
   "id": "45712f44",
   "metadata": {},
   "outputs": [
    {
     "name": "stdout",
     "output_type": "stream",
     "text": [
      "[{'name': 'Bob', 'age': 22}, {'name': 'Alice', 'age': 25}]\n"
     ]
    }
   ],
   "source": [
    "#Q13 \n",
    "def sortingkey(data, key):\n",
    "     return sorted(data, key=lambda x: x[key])\n",
    "dict3 = [{'name': 'Alice', 'age': 25}, {'name': 'Bob', 'age': 22}]\n",
    "sorted_dict= sortingkey(dict3,'age')\n",
    "print(sorted_dict)"
   ]
  },
  {
   "cell_type": "code",
   "execution_count": null,
   "id": "1232400b",
   "metadata": {},
   "outputs": [
    {
     "data": {
      "image/png": "[encoded data removed]",
      "text/plain": [
       "<Figure size 640x480 with 1 Axes>"
      ]
     },
     "metadata": {},
     "output_type": "display_data"
    }
   ],
   "source": [
    "#Q14 Write a program to:\n",
    "import matplotlib.pyplot as plt\n",
    "\n",
    "def procstring(input_string1):\n",
    "    #Split a string into a list of words.\n",
    "    words = input_string1.split()\n",
    "    \n",
    "    #Removing words shorter than 4 characters\n",
    "    filt_wor = [word for word in words if len(word) >= 4]\n",
    "    \n",
    "    #Sorting the remaining words alphabetically\n",
    "    sort_wor = sorted(filt_wor)\n",
    "    \n",
    "    return sort_wor\n",
    "\n",
    "s = \"I love reading books\"\n",
    "filtered = procstring(s)\n",
    "filtered_len = [len(x) for x in filtered]\n",
    "plt.bar(filtered, filtered_len)\n",
    "plt.show()"
   ]
  },
  {
   "cell_type": "code",
   "execution_count": 14,
   "id": "d3a2cbf4",
   "metadata": {},
   "outputs": [
    {
     "name": "stdout",
     "output_type": "stream",
     "text": [
      "['enlist', 'inlets']\n"
     ]
    }
   ],
   "source": [
    "#Q15 \n",
    "def func(word, words):\n",
    "    ans = []\n",
    "    for item in words:\n",
    "        if sorted(list(word)) == sorted(list(item)):\n",
    "            ans.append(item)\n",
    "    return ans\n",
    "word = \"listen\"\n",
    "words = [\"enlist\", \"google\", \"inlets\", \"banana\"]\n",
    "print(func(word, words))"
   ]
  },
  {
   "cell_type": "code",
   "execution_count": null,
   "id": "efb79aa7",
   "metadata": {},
   "outputs": [
    {
     "name": "stdout",
     "output_type": "stream",
     "text": [
      "Not\n"
     ]
    }
   ],
   "source": [
    "#Q25\n",
    "x = int(input())\n",
    "if x%400 == 0:\n",
    "    print(\"Leap year\")\n",
    "elif x%100 == 0:\n",
    "    print(\"Not\")\n",
    "elif x%4==0:\n",
    "    print(\"Leap year\")\n",
    "else:\n",
    "    print(\"Not\")"
   ]
  },
  {
   "cell_type": "code",
   "execution_count": null,
   "id": "2df12d55",
   "metadata": {},
   "outputs": [
    {
     "name": "stdout",
     "output_type": "stream",
     "text": [
      "Grade:A\n"
     ]
    }
   ],
   "source": [
    "#Q24\n",
    "marks= int(input())\n",
    "if marks >= 90:\n",
    "    print(\"Grade:A\")\n",
    "elif marks >= 70:\n",
    "    print(\"Grade:B\")\n",
    "elif marks>= 55:\n",
    "    print (\"Grade:C\")\n",
    "elif marks>= 35:\n",
    "    print (\"Grade:D\")\n",
    "else:\n",
    "    print (\"YOU FAILED!\")\n",
    "    "
   ]
  },
  {
   "cell_type": "code",
   "execution_count": null,
   "id": "b38bc458",
   "metadata": {},
   "outputs": [
    {
     "name": "stdout",
     "output_type": "stream",
     "text": [
      "Even\n"
     ]
    }
   ],
   "source": [
    "#Q23\n",
    "enter_num= int(input())\n",
    "if enter_num%2==0:\n",
    "    print(\"Even\")\n",
    "else:\n",
    "    print(\"Odd\")"
   ]
  },
  {
   "cell_type": "code",
   "execution_count": null,
   "id": "2cf76b4c",
   "metadata": {},
   "outputs": [
    {
     "name": "stdout",
     "output_type": "stream",
     "text": [
      "5.571428571428571\n",
      "7\n",
      "2.821202522590214\n"
     ]
    },
    {
     "data": {
      "image/png": "[encoded data removed]",
      "text/plain": [
       "<Figure size 640x480 with 1 Axes>"
      ]
     },
     "metadata": {},
     "output_type": "display_data"
    }
   ],
   "source": [
    "#Q21\n",
    "#Write Python code to calculate:\n",
    "#Mean, median, mode, and standard deviation of a list of numbers.\n",
    "import matplotlib.pyplot as plt\n",
    "list1=[2, 5, 8, 9, 1, 7, 7]\n",
    "sum3=0\n",
    "for item in list1:\n",
    "    sum3= sum3+item\n",
    "sum3new= sum3/len(list1)\n",
    "print (sum3new)\n",
    "list1_sorted= sorted(list1)\n",
    "print(list1_sorted[3])\n",
    "mode = max(set(list1), key= list1.count)\n",
    "square_sum=0\n",
    "for item in list1:\n",
    "    squ_dev= (item - sum3new)**2\n",
    "    square_sum= square_sum + squ_dev\n",
    "squ_div= square_sum/len(list1)\n",
    "square_root= (squ_div)**(0.5)\n",
    "print(square_root)\n",
    "\n",
    "#Visualize the data using a box plot.\n",
    "plt.boxplot(list1)\n",
    "plt.show()"
   ]
  },
  {
   "cell_type": "code",
   "execution_count": null,
   "id": "49971e47",
   "metadata": {},
   "outputs": [
    {
     "data": {
      "image/png": "[encoded data removed]",
      "text/plain": [
       "<Figure size 640x480 with 1 Axes>"
      ]
     },
     "metadata": {},
     "output_type": "display_data"
    }
   ],
   "source": [
    "#Q22\n",
    "import matplotlib.pyplot as plt\n",
    "def normalize_data(data):\n",
    "    max_val= max(data)\n",
    "    min_val= min(data)\n",
    "    normalized = [(x - min_val) / (max_val - min_val) for x in data]\n",
    "    return normalized\n",
    "data= [5,25,50,65,75,90]\n",
    "normailised_data= normalize_data(data)\n",
    "# Visualize the normalized data using a line plot.\n",
    "plt.plot(normailised_data)\n",
    "plt.show()\n"
   ]
  },
  {
   "cell_type": "code",
   "execution_count": null,
   "id": "1b962295",
   "metadata": {},
   "outputs": [
    {
     "name": "stdout",
     "output_type": "stream",
     "text": [
      "100\n"
     ]
    },
    {
     "data": {
      "image/png": "[encoded data removed]",
      "text/plain": [
       "<Figure size 640x480 with 1 Axes>"
      ]
     },
     "metadata": {},
     "output_type": "display_data"
    }
   ],
   "source": [
    "#20\n",
    "#Write Python code to read a CSV file and compute the sum of values in a specific column.\n",
    "import pandas as pd\n",
    "import matplotlib.pyplot as plt\n",
    "df = pd.read_csv(\"data.csv\")\n",
    "marks = list(df[\"marks\"].values)\n",
    "print(sum(marks))\n",
    "plt.plot(marks)\n",
    "plt.show()"
   ]
  },
  {
   "cell_type": "code",
   "execution_count": null,
   "id": "1d173b32",
   "metadata": {},
   "outputs": [
    {
     "name": "stdout",
     "output_type": "stream",
     "text": [
      "[49, 37, 19, 46, 34, 23, 1, 44, 31, 35, 32, 23, 30, 6, 14, 5, 4, 9, 9, 47, 29, 9, 46, 22, 44, 42, 12, 4, 31, 27, 37, 38, 8, 29, 25, 40, 12, 18, 49, 37, 4, 16, 44, 38, 5, 50, 20, 33, 18, 17, 39, 20, 23, 29, 39, 42, 22, 48, 46, 47, 33, 5, 38, 45, 6, 2, 37, 26, 17, 49, 38, 41, 7, 51, 6, 24, 41, 45, 11, 25, 2, 42, 8, 19, 43, 37, 40, 35, 4, 39, 14, 26, 11, 26, 49, 33, 43, 25, 30, 22]\n"
     ]
    },
    {
     "data": {
      "image/png": "[encoded data removed]",
      "text/plain": [
       "<Figure size 640x480 with 1 Axes>"
      ]
     },
     "metadata": {},
     "output_type": "display_data"
    }
   ],
   "source": [
    "#Q19\n",
    "#Write a Python program to:\n",
    "#Generate 100 random integers between 1 and 50.\n",
    "import random \n",
    "list1= []\n",
    "for i in range(1, 101):\n",
    "    xyz= random.randint(1, 51)\n",
    "    list1.append(xyz)\n",
    "print(list1)\n",
    "#Save them in a text file, one per line.\n",
    "\n",
    "#Read the file and compute the mean of the numbers.\n",
    "#Visualize the distribution of the numbers using a histogram.\n",
    "\n",
    "plt.hist(list1, color='blue',edgecolor='black')\n",
    "plt.show()"
   ]
  },
  {
   "cell_type": "code",
   "execution_count": null,
   "id": "087cec2e",
   "metadata": {},
   "outputs": [
    {
     "name": "stdout",
     "output_type": "stream",
     "text": [
      "Count- 17\n",
      "Cats\n"
     ]
    },
    {
     "data": {
      "image/png": "[encoded data removed]",
      "text/plain": [
       "<Figure size 640x480 with 1 Axes>"
      ]
     },
     "metadata": {},
     "output_type": "display_data"
    }
   ],
   "source": [
    "#Q18 \n",
    "import matplotlib.pyplot as plt\n",
    "f= open(\"cat.txt\", \"r\")\n",
    "s= f.read().split()\n",
    "print(\"Count-\", len(s))\n",
    "count= {\"\":0}\n",
    "current=\"\"\n",
    "for x in s:\n",
    "    if x not in count:\n",
    "        count[x]=0\n",
    "    count[x] += 1\n",
    "    if count[x]>count[current]:\n",
    "        current=x\n",
    "print(current)\n",
    "plt.bar(count.keys(), count.values())\n",
    "plt.show()"
   ]
  },
  {
   "cell_type": "code",
   "execution_count": null,
   "id": "c13c791f",
   "metadata": {},
   "outputs": [
    {
     "name": "stdout",
     "output_type": "stream",
     "text": [
      "102\n"
     ]
    }
   ],
   "source": [
    "#Q17\n",
    "# Write Python code to:\n",
    "#Create a text file.\n",
    "list3= [22, 2, 22, 25, 31]\n",
    "with open(\"bdays.txt\", \"w+\") as b:\n",
    "    #Write a list of numbers to the file (one per line).\n",
    "    for i in list3:\n",
    "        b.write(str(i) + \"\\n\")\n",
    "sum4=0\n",
    "#Read the file and compute their sum.\n",
    "with open(\"bdays.txt\", \"r\") as b:\n",
    "    for i in b:\n",
    "        sum4 += int(i)\n",
    "print(sum4)\n",
    "\n",
    "\n",
    "\n"
   ]
  },
  {
   "cell_type": "code",
   "execution_count": 31,
   "id": "9da2b024",
   "metadata": {},
   "outputs": [
    {
     "name": "stdout",
     "output_type": "stream",
     "text": [
      "{17, 12, 20}\n",
      "{33, 72, 8, 12, 45, 17, 20, 53, 22, 59, 28, 31}\n",
      "{33, 72, 8, 45, 53, 22, 59, 28, 31}\n"
     ]
    }
   ],
   "source": [
    "#Q16\n",
    "import matplotlib.pyplot as plt\n",
    "lista= [20, 17, 45, 33, 31, 12]\n",
    "listb= [17, 53, 72, 20, 12, 59, 28, 22, 8]\n",
    "intersection1= set(lista).intersection(set(listb))\n",
    "print(intersection1)\n",
    "union1=set(lista).union(set(listb))\n",
    "print(union1)\n",
    "sym_diff= set(lista).symmetric_difference(set(listb))\n",
    "print(sym_diff)\n",
    "\n"
   ]
  },
  {
   "cell_type": "code",
   "execution_count": null,
   "id": "b41dc8bb",
   "metadata": {},
   "outputs": [],
   "source": []
  }
 ],
 "metadata": {
  "kernelspec": {
   "display_name": "Python 3",
   "language": "python",
   "name": "python3"
  },
  "language_info": {
   "codemirror_mode": {
    "name": "ipython",
    "version": 3
   },
   "file_extension": ".py",
   "mimetype": "text/x-python",
   "name": "python",
   "nbconvert_exporter": "python",
   "pygments_lexer": "ipython3",
   "version": "3.12.8"
  }
 },
 "nbformat": 4,
 "nbformat_minor": 5
}
